{
 "cells": [
  {
   "cell_type": "markdown",
   "metadata": {},
   "source": [
    "# GPA Calculator \n",
    "***\n",
    "Here I present an improved version of my first GPA project from college (you can see an example output below). Give it a go!"
   ]
  },
  {
   "cell_type": "code",
   "execution_count": 1,
   "metadata": {},
   "outputs": [
    {
     "name": "stdout",
     "output_type": "stream",
     "text": [
      "Welcome to my GPA calculator! Enjoy calculating your stuff ;)\n",
      "The following letter-grades can be used for this calculator: A+, A, B+, B, C+, C, D, F\n",
      "\n",
      "Please enter the number of courses you have completed: 4\n",
      "\n",
      "Course # 1 , Grade: 3\n",
      "Invalid, choose from this GPA calculator's grade list: .\n",
      "Invalid, choose from this GPA calculator's grade list: a+\n",
      "Course credits (3 or 4): 3\n",
      "\n",
      "Course # 2 , Grade: d+\n",
      "Invalid, choose from this GPA calculator's grade list: D\n",
      "Course credits (3 or 4): 5\n",
      "Sorry buddy, it's gotta be either 3 or 4 credits: 4\n",
      "\n",
      "Course # 3 , Grade: +C\n",
      "Course credits (3 or 4): .\n",
      "Invalid: float numbers, alphabets or special characters. Try again: 4.5\n",
      "Invalid: float numbers, alphabets or special characters. Try again: 3\n",
      "\n",
      "Course # 4 , Grade: B+\n",
      "Course credits (3 or 4): 3\n",
      "\n",
      "Your GPA is: 2.73\n"
     ]
    }
   ],
   "source": [
    "#Function that prompts the user to re-input a letter-grade\n",
    "#that matches any letter-grade from this calculator's list.\n",
    "def grade_check(entry,grade_point):\n",
    "        #Dictionary of grade letters to be used for the calculator. \n",
    "        grades_list ={4.5:(\"+A\",\"A+\",\"+a\",\"a+\"),4.0:(\"A\",\"a\"),3.5:(\"+B\",\"B+\",\"+b\",\"b+\"),3.0:(\"B\",\"b\"),\n",
    "                      2.5:(\"C+\",\"+C\",\"+c\",\"c+\"),2.0:(\"C\",\"c\"),1.0:(\"D\",\"d\"),0.0:(\"F\",\"f\")}\n",
    "        \n",
    "        matching_list = any(entry in sub for sub in grades_list.values()) #List of letter-grades used for detecting\n",
    "                                                                          #a match with the user's input\n",
    "        while matching_list != True: \n",
    "            entry = input(\"Invalid, choose from this GPA calculator's grade list: \") #Prompting the user to re-input a valid  \n",
    "            matching_list = any(entry in sub for sub in grades_list.values())        #letter grade from the \"matching list\"\n",
    "            \n",
    "        for key, value in grades_list.items(): #Extracting grade-values per letter-grade.\n",
    "            if entry in grades_list[key]:\n",
    "                grade_point = key\n",
    "                tuple = (entry,grade_point)\n",
    "                return tuple \n",
    "\n",
    "#Function that prompts the user to re-input an integer value \n",
    "#if the initial one wasn't an integer.\n",
    "def int_value(num):\n",
    "    \n",
    "    while type(num) != int:\n",
    "        try:\n",
    "            num = int(input())\n",
    "        except ValueError:\n",
    "            print(\"Invalid: float numbers, alphabets or special characters. Try again: \",end='')\n",
    "    return num\n",
    "\n",
    "#Greetings and input of the number of courses.\n",
    "print('Welcome to my GPA calculator! Enjoy calculating your stuff ;)') \n",
    "print('The following letter-grades can be used for this calculator: A+, A, B+, B, C+, C, D, F\\n')\n",
    "print(\"Please enter the number of courses you have completed: \", end=\"\")\n",
    "completed = int_value(None)\n",
    "print('')\n",
    "\n",
    "#GPA calculations with While-loop.\n",
    "index,grade_count,credit_count = 1,0,0\n",
    "while index < completed+1:\n",
    "    \n",
    "    print(\"Course #\",index,\", Grade: \",end=\"\") #Course number #, and it's grade.\n",
    "    grade = grade_check(input(),None)\n",
    "    \n",
    "    print(\"Course credits (3 or 4): \",end=\"\")   #The course's credits, which for this calulator can be\n",
    "    credits = int_value(None)                   #either 3 or 4. Else you have to re-input a valid one.\n",
    "    while credits !=3 and credits !=4:\n",
    "        print(\"Sorry buddy, it's gotta be either 3 or 4 credits: \",end='')\n",
    "        credits = int_value(None)\n",
    "    print('')\n",
    "    \n",
    "    #The main calculations:\n",
    "    gv = grade[1]  #Grade values\n",
    "    weights = gv*credits #Weights; product of grade-values and credit-hours (per course)\n",
    "    grade_count += weights #Totaling the weights\n",
    "    credit_count += credits #Totaling all course credits\n",
    "    index += 1 #Closing the while loop.\n",
    "       \n",
    "#Getting our GPA! \n",
    "GPA = float(str(grade_count/credit_count)[:5]) #(Final calculation step and result is displayed in \n",
    "print(\"Your GPA is:\", GPA)                     #3 d.p./4 s.f. format without rounding)"
   ]
  }
 ],
 "metadata": {
  "kernelspec": {
   "display_name": "Python 3",
   "language": "python",
   "name": "python3"
  },
  "language_info": {
   "codemirror_mode": {
    "name": "ipython",
    "version": 3
   },
   "file_extension": ".py",
   "mimetype": "text/x-python",
   "name": "python",
   "nbconvert_exporter": "python",
   "pygments_lexer": "ipython3",
   "version": "3.7.3"
  }
 },
 "nbformat": 4,
 "nbformat_minor": 2
}
